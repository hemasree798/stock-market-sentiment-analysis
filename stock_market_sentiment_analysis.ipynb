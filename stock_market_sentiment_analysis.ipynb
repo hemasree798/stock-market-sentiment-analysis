{
 "cells": [
  {
   "cell_type": "code",
   "execution_count": 17,
   "metadata": {},
   "outputs": [],
   "source": [
    "from urllib.request import urlopen\n",
    "from urllib.request import Request\n",
    "from bs4 import BeautifulSoup\n",
    "import csv"
   ]
  },
  {
   "cell_type": "code",
   "execution_count": 18,
   "metadata": {},
   "outputs": [],
   "source": [
    "with open('news_data.csv', 'w', newline='') as csvfile:\n",
    "    # Create a CSV writer object\n",
    "    csv_writer = csv.writer(csvfile)\n",
    "    # Write the header row\n",
    "    csv_writer.writerow(['Stock Name','Date','Time','News Headline'])"
   ]
  },
  {
   "cell_type": "code",
   "execution_count": 30,
   "metadata": {},
   "outputs": [],
   "source": [
    "finviz_url = 'https://finviz.com/quote.ashx?t='"
   ]
  },
  {
   "cell_type": "code",
   "execution_count": 31,
   "metadata": {},
   "outputs": [],
   "source": [
    "stock_names = ['TSLA','AMD','NVDA','MU','PLTR','NIO','AAPL','MARA','WBA','CLSK','F','CCL','CPE','SOFI','T','BAC','GOOGL','VALE','GOLD','INTC','AMZN','WBD','GOOG','PFE']"
   ]
  },
  {
   "cell_type": "code",
   "execution_count": 32,
   "metadata": {},
   "outputs": [
    {
     "name": "stdout",
     "output_type": "stream",
     "text": [
      "https://finviz.com/quote.ashx?t=\n",
      "https://finviz.com/quote.ashx?t=\n",
      "https://finviz.com/quote.ashx?t=\n",
      "https://finviz.com/quote.ashx?t=\n",
      "https://finviz.com/quote.ashx?t=\n",
      "https://finviz.com/quote.ashx?t=\n",
      "https://finviz.com/quote.ashx?t=\n",
      "https://finviz.com/quote.ashx?t=\n",
      "https://finviz.com/quote.ashx?t=\n",
      "https://finviz.com/quote.ashx?t=\n",
      "https://finviz.com/quote.ashx?t=\n",
      "https://finviz.com/quote.ashx?t=\n",
      "https://finviz.com/quote.ashx?t=\n",
      "https://finviz.com/quote.ashx?t=\n",
      "https://finviz.com/quote.ashx?t=\n",
      "https://finviz.com/quote.ashx?t=\n",
      "https://finviz.com/quote.ashx?t=\n",
      "https://finviz.com/quote.ashx?t=\n",
      "https://finviz.com/quote.ashx?t=\n",
      "https://finviz.com/quote.ashx?t=\n",
      "https://finviz.com/quote.ashx?t=\n",
      "https://finviz.com/quote.ashx?t=\n",
      "https://finviz.com/quote.ashx?t=\n",
      "https://finviz.com/quote.ashx?t=\n"
     ]
    }
   ],
   "source": [
    "for stock in stock_names:\n",
    "    final_url = finviz_url+stock\n",
    "    request = Request(url=final_url,headers={'user-agent': 'app'}) \n",
    "    response = urlopen(request)    \n",
    "    html = BeautifulSoup(response, features=\"lxml\")\n",
    "    news_table = html.find('table',id='news-table')\n",
    "    news_table_row = news_table.find_all('tr')\n",
    "    for news in news_table_row:\n",
    "        news_headline = news.a.get_text() \n",
    "        date_scrape = news.td.text.split()\n",
    "        if len(date_scrape) == 1:\n",
    "            time = date_scrape[0]\n",
    "        else:\n",
    "            date = date_scrape[0]\n",
    "            time = date_scrape[1]\n",
    "        with open('news_data.csv', 'a', newline='') as csvfile:\n",
    "            csv_writer = csv.writer(csvfile)\n",
    "            csv_writer.writerow([stock, date, time, news_headline])"
   ]
  },
  {
   "cell_type": "code",
   "execution_count": null,
   "metadata": {},
   "outputs": [],
   "source": []
  }
 ],
 "metadata": {
  "kernelspec": {
   "display_name": "CSCN8010_classic_ml3",
   "language": "python",
   "name": "python3"
  },
  "language_info": {
   "codemirror_mode": {
    "name": "ipython",
    "version": 3
   },
   "file_extension": ".py",
   "mimetype": "text/x-python",
   "name": "python",
   "nbconvert_exporter": "python",
   "pygments_lexer": "ipython3",
   "version": "3.11.7"
  }
 },
 "nbformat": 4,
 "nbformat_minor": 2
}
